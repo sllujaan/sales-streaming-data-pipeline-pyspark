{
 "cells": [
  {
   "cell_type": "markdown",
   "metadata": {},
   "source": [
    "# Real-Time Data Pipeline and Warehouse for Sales Using PySpark\n",
    "\n",
    "This project demonstrates a comprehensive real-time data warehouse solution for processing and analyzing incoming sales data from raw files.\n",
    "\n",
    "## Project Overview\n",
    "\n",
    "This project provides solutions for:\n",
    "\n",
    "1. **Streaming Data Pipelines**: Efficiently processing and transforming incoming sales data in real-time.\n",
    "2. **Data Warehouse**: Storing and managing the processed data for efficient querying and analysis.\n",
    "3. **Data Analysis**: Analyzing the stored data to derive meaningful insights.\n",
    "\n",
    "## Tools and Technologies Used\n",
    "\n",
    "1. **Apache Spark (PySpark)**: Utilized for Structured Streaming to handle real-time data processing.\n",
    "2. **SQL**: Employed for querying and managing data within the data warehouse.\n",
    "3. **Python**: Used for data manipulation and visualization with libraries such as Pandas and Matplotlib.\n",
    "\n",
    "## ETL Life Cycle\n",
    "\n",
    "The project implements the full ETL (Extract, Transform, Load) life cycle:\n",
    "\n",
    "1. **Extract**: Raw sales data is ingested from various sources.\n",
    "2. **Transform**: Data is processed and transformed in real-time using PySpark Structured Streaming.\n",
    "3. **Load**: Transformed data is loaded into the data warehouse for storage and further analysis.\n",
    "\n",
    "This project showcases an end-to-end solution for real-time data warehousing, ensuring that sales data is processed, stored, and analyzed efficiently."
   ]
  },
  {
   "cell_type": "code",
   "execution_count": 1,
   "metadata": {},
   "outputs": [],
   "source": [
    "import matplotlib.pyplot as plt\n",
    "import pandas as pd\n",
    "from sales import generate_new_sales"
   ]
  },
  {
   "cell_type": "code",
   "execution_count": 2,
   "metadata": {},
   "outputs": [],
   "source": [
    "#generate new sales data\n",
    "generate_new_sales(1000, \"sales\")"
   ]
  },
  {
   "cell_type": "code",
   "execution_count": 3,
   "metadata": {},
   "outputs": [
    {
     "name": "stderr",
     "output_type": "stream",
     "text": [
      "your 131072x1 screen size is bogus. expect trouble\n",
      "24/07/29 07:20:44 WARN Utils: Your hostname, DESKTOP-GJHDSFN resolves to a loopback address: 127.0.1.1; using 172.23.108.242 instead (on interface eth0)\n",
      "24/07/29 07:20:44 WARN Utils: Set SPARK_LOCAL_IP if you need to bind to another address\n",
      "Setting default log level to \"WARN\".\n",
      "To adjust logging level use sc.setLogLevel(newLevel). For SparkR, use setLogLevel(newLevel).\n",
      "24/07/29 07:20:45 WARN NativeCodeLoader: Unable to load native-hadoop library for your platform... using builtin-java classes where applicable\n"
     ]
    },
    {
     "data": {
      "text/html": [
       "\n",
       "            <div>\n",
       "                <p><b>SparkSession - in-memory</b></p>\n",
       "                \n",
       "        <div>\n",
       "            <p><b>SparkContext</b></p>\n",
       "\n",
       "            <p><a href=\"http://172.23.108.242:4040\">Spark UI</a></p>\n",
       "\n",
       "            <dl>\n",
       "              <dt>Version</dt>\n",
       "                <dd><code>v3.5.1</code></dd>\n",
       "              <dt>Master</dt>\n",
       "                <dd><code>local[*]</code></dd>\n",
       "              <dt>AppName</dt>\n",
       "                <dd><code>pyspark-shell</code></dd>\n",
       "            </dl>\n",
       "        </div>\n",
       "        \n",
       "            </div>\n",
       "        "
      ],
      "text/plain": [
       "<pyspark.sql.session.SparkSession at 0x7f64114e8ca0>"
      ]
     },
     "execution_count": 3,
     "metadata": {},
     "output_type": "execute_result"
    }
   ],
   "source": [
    "from pyspark.sql import SparkSession\n",
    "spark = SparkSession.builder.getOrCreate()\n",
    "spark"
   ]
  },
  {
   "cell_type": "code",
   "execution_count": 8,
   "metadata": {},
   "outputs": [],
   "source": [
    "from pyspark.sql import Window\n",
    "from pyspark.sql.functions import row_number, col, expr, current_timestamp, lit, when"
   ]
  },
  {
   "cell_type": "code",
   "execution_count": 9,
   "metadata": {},
   "outputs": [],
   "source": [
    "path_source = \"./datasets/sales\"\n",
    "path_raw_sales = \"./spark-warehouse/raw_sales\"\n",
    "path_customers = \"./spark-warehouse/customers\"\n",
    "path_products = \"./spark-warehouse/products\"\n",
    "path_sales = \"./spark-warehouse/sales\"\n",
    "path_checkpoint = \"./checkpoints/\"\n",
    "\n",
    "def get_checkpoint(name: str) -> str:\n",
    "    return path_checkpoint + name"
   ]
  },
  {
   "cell_type": "code",
   "execution_count": 10,
   "metadata": {},
   "outputs": [],
   "source": [
    "import shutil\n",
    "shutil.rmtree(\"spark-warehouse\", ignore_errors=True)\n",
    "shutil.rmtree(\"checkpoints\", ignore_errors=True)"
   ]
  },
  {
   "cell_type": "code",
   "execution_count": 11,
   "metadata": {},
   "outputs": [
    {
     "name": "stdout",
     "output_type": "stream",
     "text": [
      "+--------+-----------+--------------------+------------+--------------------+----------+--------------------+-------------+----------------+----------+\n",
      "|order_id|customer_id|       customer_name|customer_age|    customer_country|product_id|        product_name|product_price|product_quantity|order_date|\n",
      "+--------+-----------+--------------------+------------+--------------------+----------+--------------------+-------------+----------------+----------+\n",
      "|     614|        251|         Robert Ryan|          35|                Niue|       229|  Vivid Water Bottle|          360|              47|2022-07-30|\n",
      "|     918|         36|Katherine Richardson|          16|Antarctica (the t...|       702|          Power Soap|          234|              47|2022-07-30|\n",
      "|     418|        291|          Sarah Holt|          45|United States of ...|       657|         Hydro Watch|          126|              90|2022-07-30|\n",
      "|     834|        842|       Matthew Johns|          56| Antigua and Barbuda|        24|        Plush Pillow|          223|              41|2022-07-30|\n",
      "|     414|         84|         Amber Clark|          36|                Peru|       369|    Speed Headphones|           54|              29|2022-07-31|\n",
      "|     134|        654|      James Sandoval|          42|            Pakistan|        98|      Aqua Glassware|          232|              16|2022-08-01|\n",
      "|     487|        850|  Allison Richardson|          41|             Moldova|       473|        Turbo Pillow|          242|              63|2022-08-01|\n",
      "|     179|        225|         Kiara Jones|          21|          Uzbekistan|       159|        Turbo Candle|           78|              64|2022-08-02|\n",
      "|     377|          1|         Jeremy Hunt|          29|         Timor-Leste|       588|         Elite Watch|           51|              26|2022-08-02|\n",
      "|     513|        490|    Nichole Martinez|          22|             Moldova|       371|      Comfort Camera|          152|              67|2022-08-02|\n",
      "|      17|        344|       Donald Carter|          21|           Greenland|        79|  Gourmet Hair Dryer|          107|              27|2022-08-03|\n",
      "|     496|        831|         Sherry Reed|          43|  Dominican Republic|       780|Gourmet Coffee Maker|          186|              93|2022-08-03|\n",
      "|     372|        104|         John Taylor|          36|           Guatemala|       408|     Luxe Sleep Mask|          458|              51|2022-08-03|\n",
      "|     384|        124|       Andrew Hughes|          58|             Namibia|       625|      Elite Lipstick|          200|              94|2022-08-03|\n",
      "|     721|        708|          John Jones|          50|          Montserrat|       702|        Ultra Vacuum|          369|               6|2022-08-05|\n",
      "|     645|        327|      Edwin Marshall|          24|             Uruguay|       450|           Elite Mop|          353|              71|2022-08-05|\n",
      "|     281|        965|         Angela Beck|          22|             Iceland|       280|       Healthy Mouse|          371|              26|2022-08-06|\n",
      "|     865|        343|  Katherine Campbell|          18|               Sudan|       883|   Pure Coffee Maker|          480|              92|2022-08-06|\n",
      "|     271|        616|    Valerie Williams|          24|                Iran|       982|           Luxe Soap|          257|              21|2022-08-07|\n",
      "|     815|        251|      Carolyn Watson|          22|    French Polynesia|       462|          Cozy Stand|          255|              70|2022-08-07|\n",
      "+--------+-----------+--------------------+------------+--------------------+----------+--------------------+-------------+----------------+----------+\n",
      "only showing top 20 rows\n",
      "\n"
     ]
    }
   ],
   "source": [
    "# display the source data\n",
    "df = (spark.read\n",
    ".csv(path_source, header=True, inferSchema=True, sep=\",\")\n",
    ")\n",
    "df.show()"
   ]
  },
  {
   "cell_type": "code",
   "execution_count": 12,
   "metadata": {},
   "outputs": [
    {
     "name": "stdout",
     "output_type": "stream",
     "text": [
      "root\n",
      " |-- order_id: integer (nullable = true)\n",
      " |-- customer_id: integer (nullable = true)\n",
      " |-- customer_name: string (nullable = true)\n",
      " |-- customer_age: integer (nullable = true)\n",
      " |-- customer_country: string (nullable = true)\n",
      " |-- product_id: integer (nullable = true)\n",
      " |-- product_name: string (nullable = true)\n",
      " |-- product_price: integer (nullable = true)\n",
      " |-- product_quantity: integer (nullable = true)\n",
      " |-- order_date: date (nullable = true)\n",
      "\n"
     ]
    }
   ],
   "source": [
    "df.printSchema()"
   ]
  },
  {
   "cell_type": "code",
   "execution_count": 13,
   "metadata": {},
   "outputs": [
    {
     "data": {
      "text/plain": [
       "Column<'(((order_id IS NOT NULL) AND (customer_id IS NOT NULL)) AND ((product_id IS NOT NULL) AND (order_date IS NOT NULL))) AS is_valid'>"
      ]
     },
     "execution_count": 13,
     "metadata": {},
     "output_type": "execute_result"
    }
   ],
   "source": [
    "# create an expression for validating the raw data\n",
    "is_valid = expr(\"\"\"\n",
    "    (order_id is not null) and\n",
    "    (customer_id is not null) and\n",
    "    (product_id is not null) and\n",
    "    (order_date is not null)\n",
    "\"\"\").alias(\"is_valid\")\n",
    "is_valid"
   ]
  },
  {
   "cell_type": "code",
   "execution_count": 14,
   "metadata": {},
   "outputs": [
    {
     "name": "stderr",
     "output_type": "stream",
     "text": [
      "24/07/29 07:30:32 WARN ResolveWriteToStream: spark.sql.adaptive.enabled is not supported in streaming DataFrames/Datasets and will be disabled.\n"
     ]
    },
    {
     "data": {
      "text/plain": [
       "<pyspark.sql.streaming.query.StreamingQuery at 0x7f64114ea5f0>"
      ]
     },
     "execution_count": 14,
     "metadata": {},
     "output_type": "execute_result"
    },
    {
     "name": "stderr",
     "output_type": "stream",
     "text": [
      "                                                                                \r"
     ]
    }
   ],
   "source": [
    "# create streaming pipeline on source data\n",
    "(\n",
    "    spark.readStream\n",
    "    .option('header', 'true')\n",
    "    .schema(df.schema)\n",
    "    .csv(path_source)\n",
    "    .select(\"*\",\n",
    "        col(\"_metadata.file_path\").alias(\"source_file\"),\n",
    "        current_timestamp().alias(\"processing_time\"),\n",
    "        is_valid\n",
    "    )\n",
    "    .writeStream\n",
    "    .format(\"parquet\")\n",
    "    .option(\"truncate\", \"false\")\n",
    "    .option(\"checkpointLocation\", get_checkpoint(\"raw_sales\"))\n",
    "    .option(\"path\", path_raw_sales)\n",
    "    .start()\n",
    ")"
   ]
  },
  {
   "cell_type": "code",
   "execution_count": 15,
   "metadata": {},
   "outputs": [
    {
     "name": "stdout",
     "output_type": "stream",
     "text": [
      "+--------+-----------+--------------------+------------+--------------------+----------+--------------------+-------------+----------------+----------+--------------------+--------------------+--------+\n",
      "|order_id|customer_id|       customer_name|customer_age|    customer_country|product_id|        product_name|product_price|product_quantity|order_date|         source_file|     processing_time|is_valid|\n",
      "+--------+-----------+--------------------+------------+--------------------+----------+--------------------+-------------+----------------+----------+--------------------+--------------------+--------+\n",
      "|     614|        251|         Robert Ryan|          35|                Niue|       229|  Vivid Water Bottle|          360|              47|2022-07-30|file:/root/pyspar...|2024-07-29 07:30:...|    true|\n",
      "|     918|         36|Katherine Richardson|          16|Antarctica (the t...|       702|          Power Soap|          234|              47|2022-07-30|file:/root/pyspar...|2024-07-29 07:30:...|    true|\n",
      "|     418|        291|          Sarah Holt|          45|United States of ...|       657|         Hydro Watch|          126|              90|2022-07-30|file:/root/pyspar...|2024-07-29 07:30:...|    true|\n",
      "|     834|        842|       Matthew Johns|          56| Antigua and Barbuda|        24|        Plush Pillow|          223|              41|2022-07-30|file:/root/pyspar...|2024-07-29 07:30:...|    true|\n",
      "|     414|         84|         Amber Clark|          36|                Peru|       369|    Speed Headphones|           54|              29|2022-07-31|file:/root/pyspar...|2024-07-29 07:30:...|    true|\n",
      "|     134|        654|      James Sandoval|          42|            Pakistan|        98|      Aqua Glassware|          232|              16|2022-08-01|file:/root/pyspar...|2024-07-29 07:30:...|    true|\n",
      "|     487|        850|  Allison Richardson|          41|             Moldova|       473|        Turbo Pillow|          242|              63|2022-08-01|file:/root/pyspar...|2024-07-29 07:30:...|    true|\n",
      "|     179|        225|         Kiara Jones|          21|          Uzbekistan|       159|        Turbo Candle|           78|              64|2022-08-02|file:/root/pyspar...|2024-07-29 07:30:...|    true|\n",
      "|     377|          1|         Jeremy Hunt|          29|         Timor-Leste|       588|         Elite Watch|           51|              26|2022-08-02|file:/root/pyspar...|2024-07-29 07:30:...|    true|\n",
      "|     513|        490|    Nichole Martinez|          22|             Moldova|       371|      Comfort Camera|          152|              67|2022-08-02|file:/root/pyspar...|2024-07-29 07:30:...|    true|\n",
      "|      17|        344|       Donald Carter|          21|           Greenland|        79|  Gourmet Hair Dryer|          107|              27|2022-08-03|file:/root/pyspar...|2024-07-29 07:30:...|    true|\n",
      "|     496|        831|         Sherry Reed|          43|  Dominican Republic|       780|Gourmet Coffee Maker|          186|              93|2022-08-03|file:/root/pyspar...|2024-07-29 07:30:...|    true|\n",
      "|     372|        104|         John Taylor|          36|           Guatemala|       408|     Luxe Sleep Mask|          458|              51|2022-08-03|file:/root/pyspar...|2024-07-29 07:30:...|    true|\n",
      "|     384|        124|       Andrew Hughes|          58|             Namibia|       625|      Elite Lipstick|          200|              94|2022-08-03|file:/root/pyspar...|2024-07-29 07:30:...|    true|\n",
      "|     721|        708|          John Jones|          50|          Montserrat|       702|        Ultra Vacuum|          369|               6|2022-08-05|file:/root/pyspar...|2024-07-29 07:30:...|    true|\n",
      "|     645|        327|      Edwin Marshall|          24|             Uruguay|       450|           Elite Mop|          353|              71|2022-08-05|file:/root/pyspar...|2024-07-29 07:30:...|    true|\n",
      "|     281|        965|         Angela Beck|          22|             Iceland|       280|       Healthy Mouse|          371|              26|2022-08-06|file:/root/pyspar...|2024-07-29 07:30:...|    true|\n",
      "|     865|        343|  Katherine Campbell|          18|               Sudan|       883|   Pure Coffee Maker|          480|              92|2022-08-06|file:/root/pyspar...|2024-07-29 07:30:...|    true|\n",
      "|     271|        616|    Valerie Williams|          24|                Iran|       982|           Luxe Soap|          257|              21|2022-08-07|file:/root/pyspar...|2024-07-29 07:30:...|    true|\n",
      "|     815|        251|      Carolyn Watson|          22|    French Polynesia|       462|          Cozy Stand|          255|              70|2022-08-07|file:/root/pyspar...|2024-07-29 07:30:...|    true|\n",
      "+--------+-----------+--------------------+------------+--------------------+----------+--------------------+-------------+----------------+----------+--------------------+--------------------+--------+\n",
      "only showing top 20 rows\n",
      "\n"
     ]
    }
   ],
   "source": [
    "# display the raw data [field added (is_valid)]\n",
    "df_raw_sales = spark.read.parquet(path_raw_sales).orderBy(col('processing_time').desc())\n",
    "df_raw_sales.show()"
   ]
  },
  {
   "cell_type": "code",
   "execution_count": 16,
   "metadata": {},
   "outputs": [
    {
     "name": "stdout",
     "output_type": "stream",
     "text": [
      "root\n",
      " |-- order_id: integer (nullable = true)\n",
      " |-- customer_id: integer (nullable = true)\n",
      " |-- customer_name: string (nullable = true)\n",
      " |-- customer_age: integer (nullable = true)\n",
      " |-- customer_country: string (nullable = true)\n",
      " |-- product_id: integer (nullable = true)\n",
      " |-- product_name: string (nullable = true)\n",
      " |-- product_price: integer (nullable = true)\n",
      " |-- product_quantity: integer (nullable = true)\n",
      " |-- order_date: date (nullable = true)\n",
      " |-- source_file: string (nullable = false)\n",
      " |-- processing_time: timestamp (nullable = false)\n",
      " |-- is_valid: boolean (nullable = false)\n",
      "\n"
     ]
    }
   ],
   "source": [
    "df_raw_sales.printSchema()"
   ]
  },
  {
   "cell_type": "code",
   "execution_count": 17,
   "metadata": {},
   "outputs": [
    {
     "name": "stderr",
     "output_type": "stream",
     "text": [
      "24/07/29 07:32:40 WARN ResolveWriteToStream: spark.sql.adaptive.enabled is not supported in streaming DataFrames/Datasets and will be disabled.\n"
     ]
    },
    {
     "data": {
      "text/plain": [
       "<pyspark.sql.streaming.query.StreamingQuery at 0x7f64114eb310>"
      ]
     },
     "execution_count": 17,
     "metadata": {},
     "output_type": "execute_result"
    }
   ],
   "source": [
    "# create streaming pipeline on raw data for customers\n",
    "(\n",
    "    spark.readStream\n",
    "    .format(\"parquet\")\n",
    "    .schema(df_raw_sales.schema)\n",
    "    .parquet(path_raw_sales)\n",
    "    .select(\n",
    "        col(\"customer_id\").alias(\"id\"),\n",
    "        col(\"customer_name\").alias(\"name\"),\n",
    "        col(\"customer_age\").alias(\"age\"),\n",
    "        col(\"customer_country\").alias(\"country\"),\n",
    "        col(\"processing_time\")\n",
    "    )\n",
    "    .where(\"is_valid = true\")\n",
    "    .writeStream\n",
    "    .format(\"parquet\")\n",
    "    .option(\"truncate\", \"false\")\n",
    "    .option(\"checkpointLocation\", get_checkpoint(\"customers\"))\n",
    "    .option(\"path\", path_customers)\n",
    "    .start()\n",
    ")"
   ]
  },
  {
   "cell_type": "code",
   "execution_count": 18,
   "metadata": {},
   "outputs": [
    {
     "name": "stdout",
     "output_type": "stream",
     "text": [
      "+---+--------------------+---+--------------------------------------------+----------------------+\n",
      "|id |name                |age|country                                     |processing_time       |\n",
      "+---+--------------------+---+--------------------------------------------+----------------------+\n",
      "|251|Robert Ryan         |35 |Niue                                        |2024-07-29 07:30:32.75|\n",
      "|36 |Katherine Richardson|16 |Antarctica (the territory South of 60 deg S)|2024-07-29 07:30:32.75|\n",
      "|291|Sarah Holt          |45 |United States of America                    |2024-07-29 07:30:32.75|\n",
      "|842|Matthew Johns       |56 |Antigua and Barbuda                         |2024-07-29 07:30:32.75|\n",
      "|84 |Amber Clark         |36 |Peru                                        |2024-07-29 07:30:32.75|\n",
      "|654|James Sandoval      |42 |Pakistan                                    |2024-07-29 07:30:32.75|\n",
      "|850|Allison Richardson  |41 |Moldova                                     |2024-07-29 07:30:32.75|\n",
      "|225|Kiara Jones         |21 |Uzbekistan                                  |2024-07-29 07:30:32.75|\n",
      "|1  |Jeremy Hunt         |29 |Timor-Leste                                 |2024-07-29 07:30:32.75|\n",
      "|490|Nichole Martinez    |22 |Moldova                                     |2024-07-29 07:30:32.75|\n",
      "|344|Donald Carter       |21 |Greenland                                   |2024-07-29 07:30:32.75|\n",
      "|831|Sherry Reed         |43 |Dominican Republic                          |2024-07-29 07:30:32.75|\n",
      "|104|John Taylor         |36 |Guatemala                                   |2024-07-29 07:30:32.75|\n",
      "|124|Andrew Hughes       |58 |Namibia                                     |2024-07-29 07:30:32.75|\n",
      "|708|John Jones          |50 |Montserrat                                  |2024-07-29 07:30:32.75|\n",
      "|327|Edwin Marshall      |24 |Uruguay                                     |2024-07-29 07:30:32.75|\n",
      "|965|Angela Beck         |22 |Iceland                                     |2024-07-29 07:30:32.75|\n",
      "|343|Katherine Campbell  |18 |Sudan                                       |2024-07-29 07:30:32.75|\n",
      "|616|Valerie Williams    |24 |Iran                                        |2024-07-29 07:30:32.75|\n",
      "|251|Carolyn Watson      |22 |French Polynesia                            |2024-07-29 07:30:32.75|\n",
      "+---+--------------------+---+--------------------------------------------+----------------------+\n",
      "only showing top 20 rows\n",
      "\n"
     ]
    }
   ],
   "source": [
    "# display the customers data\n",
    "df_customers = spark.read.parquet(path_customers).orderBy(col('processing_time').desc())\n",
    "df_customers.show(truncate=False)"
   ]
  },
  {
   "cell_type": "code",
   "execution_count": 19,
   "metadata": {},
   "outputs": [
    {
     "name": "stdout",
     "output_type": "stream",
     "text": [
      "root\n",
      " |-- id: integer (nullable = true)\n",
      " |-- name: string (nullable = true)\n",
      " |-- age: integer (nullable = true)\n",
      " |-- country: string (nullable = true)\n",
      " |-- processing_time: timestamp (nullable = true)\n",
      "\n"
     ]
    }
   ],
   "source": [
    "df_customers.printSchema()"
   ]
  },
  {
   "cell_type": "code",
   "execution_count": 20,
   "metadata": {},
   "outputs": [
    {
     "name": "stderr",
     "output_type": "stream",
     "text": [
      "24/07/29 07:33:14 WARN ResolveWriteToStream: spark.sql.adaptive.enabled is not supported in streaming DataFrames/Datasets and will be disabled.\n"
     ]
    },
    {
     "data": {
      "text/plain": [
       "<pyspark.sql.streaming.query.StreamingQuery at 0x7f64114ea440>"
      ]
     },
     "execution_count": 20,
     "metadata": {},
     "output_type": "execute_result"
    }
   ],
   "source": [
    "# create streaming pipeline on raw data for products\n",
    "(\n",
    "    spark.readStream\n",
    "    .format(\"parquet\")\n",
    "    .schema(df_raw_sales.schema)\n",
    "    .parquet(path_raw_sales)\n",
    "    .select(\n",
    "        col(\"product_id\").alias(\"id\"),\n",
    "        col(\"product_name\").alias(\"name\"),\n",
    "        col(\"product_price\").alias(\"price\"),\n",
    "        col(\"processing_time\")\n",
    "    )\n",
    "    .where(\"is_valid = true\")\n",
    "    .writeStream\n",
    "    .format(\"parquet\")\n",
    "    .option(\"truncate\", \"false\")\n",
    "    .option(\"checkpointLocation\", get_checkpoint(\"products\"))\n",
    "    .option(\"path\", path_products)\n",
    "    .start()\n",
    ")"
   ]
  },
  {
   "cell_type": "code",
   "execution_count": 21,
   "metadata": {},
   "outputs": [
    {
     "name": "stdout",
     "output_type": "stream",
     "text": [
      "+---+--------------------+-----+--------------------+\n",
      "| id|                name|price|     processing_time|\n",
      "+---+--------------------+-----+--------------------+\n",
      "|229|  Vivid Water Bottle|  360|2024-07-29 07:30:...|\n",
      "|702|          Power Soap|  234|2024-07-29 07:30:...|\n",
      "|657|         Hydro Watch|  126|2024-07-29 07:30:...|\n",
      "| 24|        Plush Pillow|  223|2024-07-29 07:30:...|\n",
      "|369|    Speed Headphones|   54|2024-07-29 07:30:...|\n",
      "| 98|      Aqua Glassware|  232|2024-07-29 07:30:...|\n",
      "|473|        Turbo Pillow|  242|2024-07-29 07:30:...|\n",
      "|159|        Turbo Candle|   78|2024-07-29 07:30:...|\n",
      "|588|         Elite Watch|   51|2024-07-29 07:30:...|\n",
      "|371|      Comfort Camera|  152|2024-07-29 07:30:...|\n",
      "| 79|  Gourmet Hair Dryer|  107|2024-07-29 07:30:...|\n",
      "|780|Gourmet Coffee Maker|  186|2024-07-29 07:30:...|\n",
      "|408|     Luxe Sleep Mask|  458|2024-07-29 07:30:...|\n",
      "|625|      Elite Lipstick|  200|2024-07-29 07:30:...|\n",
      "|702|        Ultra Vacuum|  369|2024-07-29 07:30:...|\n",
      "|450|           Elite Mop|  353|2024-07-29 07:30:...|\n",
      "|280|       Healthy Mouse|  371|2024-07-29 07:30:...|\n",
      "|883|   Pure Coffee Maker|  480|2024-07-29 07:30:...|\n",
      "|982|           Luxe Soap|  257|2024-07-29 07:30:...|\n",
      "|462|          Cozy Stand|  255|2024-07-29 07:30:...|\n",
      "+---+--------------------+-----+--------------------+\n",
      "only showing top 20 rows\n",
      "\n"
     ]
    }
   ],
   "source": [
    "# display the products data\n",
    "df_products = spark.read.parquet(path_products).orderBy(col('processing_time').desc())\n",
    "df_products.show()"
   ]
  },
  {
   "cell_type": "code",
   "execution_count": 22,
   "metadata": {},
   "outputs": [
    {
     "name": "stdout",
     "output_type": "stream",
     "text": [
      "root\n",
      " |-- id: integer (nullable = true)\n",
      " |-- name: string (nullable = true)\n",
      " |-- price: integer (nullable = true)\n",
      " |-- processing_time: timestamp (nullable = true)\n",
      "\n"
     ]
    }
   ],
   "source": [
    "df_products.printSchema()"
   ]
  },
  {
   "cell_type": "code",
   "execution_count": 23,
   "metadata": {},
   "outputs": [
    {
     "name": "stderr",
     "output_type": "stream",
     "text": [
      "24/07/29 07:33:37 WARN ResolveWriteToStream: spark.sql.adaptive.enabled is not supported in streaming DataFrames/Datasets and will be disabled.\n"
     ]
    },
    {
     "data": {
      "text/plain": [
       "<pyspark.sql.streaming.query.StreamingQuery at 0x7f6411e4f280>"
      ]
     },
     "execution_count": 23,
     "metadata": {},
     "output_type": "execute_result"
    }
   ],
   "source": [
    "# create streaming pipeline on raw data for sales\n",
    "(\n",
    "    spark.readStream\n",
    "    .format(\"parquet\")\n",
    "    .schema(df_raw_sales.schema)\n",
    "    .parquet(path_raw_sales)\n",
    "    .select(\n",
    "        col(\"order_id\").alias(\"id\"),\n",
    "        col(\"customer_id\"),\n",
    "        col(\"product_id\"),\n",
    "        col(\"product_quantity\"),\n",
    "        col(\"order_date\"),\n",
    "        col(\"processing_time\")\n",
    "    )\n",
    "    .where(\"is_valid = true\")\n",
    "    .writeStream\n",
    "    .format(\"parquet\")\n",
    "    .option(\"truncate\", \"false\")\n",
    "    .option(\"checkpointLocation\", get_checkpoint(\"sales\"))\n",
    "    .option(\"path\", path_sales)\n",
    "    .start()\n",
    ")"
   ]
  },
  {
   "cell_type": "code",
   "execution_count": 24,
   "metadata": {},
   "outputs": [
    {
     "name": "stdout",
     "output_type": "stream",
     "text": [
      "+---+-----------+----------+----------------+----------+--------------------+\n",
      "| id|customer_id|product_id|product_quantity|order_date|     processing_time|\n",
      "+---+-----------+----------+----------------+----------+--------------------+\n",
      "|614|        251|       229|              47|2022-07-30|2024-07-29 07:30:...|\n",
      "|918|         36|       702|              47|2022-07-30|2024-07-29 07:30:...|\n",
      "|418|        291|       657|              90|2022-07-30|2024-07-29 07:30:...|\n",
      "|834|        842|        24|              41|2022-07-30|2024-07-29 07:30:...|\n",
      "|414|         84|       369|              29|2022-07-31|2024-07-29 07:30:...|\n",
      "|134|        654|        98|              16|2022-08-01|2024-07-29 07:30:...|\n",
      "|487|        850|       473|              63|2022-08-01|2024-07-29 07:30:...|\n",
      "|179|        225|       159|              64|2022-08-02|2024-07-29 07:30:...|\n",
      "|377|          1|       588|              26|2022-08-02|2024-07-29 07:30:...|\n",
      "|513|        490|       371|              67|2022-08-02|2024-07-29 07:30:...|\n",
      "| 17|        344|        79|              27|2022-08-03|2024-07-29 07:30:...|\n",
      "|496|        831|       780|              93|2022-08-03|2024-07-29 07:30:...|\n",
      "|372|        104|       408|              51|2022-08-03|2024-07-29 07:30:...|\n",
      "|384|        124|       625|              94|2022-08-03|2024-07-29 07:30:...|\n",
      "|721|        708|       702|               6|2022-08-05|2024-07-29 07:30:...|\n",
      "|645|        327|       450|              71|2022-08-05|2024-07-29 07:30:...|\n",
      "|281|        965|       280|              26|2022-08-06|2024-07-29 07:30:...|\n",
      "|865|        343|       883|              92|2022-08-06|2024-07-29 07:30:...|\n",
      "|271|        616|       982|              21|2022-08-07|2024-07-29 07:30:...|\n",
      "|815|        251|       462|              70|2022-08-07|2024-07-29 07:30:...|\n",
      "+---+-----------+----------+----------------+----------+--------------------+\n",
      "only showing top 20 rows\n",
      "\n"
     ]
    }
   ],
   "source": [
    "# display the sales data\n",
    "df_sales = spark.read.parquet(path_sales).orderBy(col('processing_time').desc())\n",
    "df_sales.show()"
   ]
  },
  {
   "cell_type": "code",
   "execution_count": 25,
   "metadata": {},
   "outputs": [
    {
     "name": "stdout",
     "output_type": "stream",
     "text": [
      "root\n",
      " |-- id: integer (nullable = true)\n",
      " |-- customer_id: integer (nullable = true)\n",
      " |-- product_id: integer (nullable = true)\n",
      " |-- product_quantity: integer (nullable = true)\n",
      " |-- order_date: date (nullable = true)\n",
      " |-- processing_time: timestamp (nullable = true)\n",
      "\n"
     ]
    }
   ],
   "source": [
    "df_sales.printSchema()"
   ]
  },
  {
   "cell_type": "code",
   "execution_count": 26,
   "metadata": {},
   "outputs": [
    {
     "data": {
      "text/plain": [
       "Column<'row_number() OVER (PARTITION BY id ORDER BY processing_time DESC NULLS LAST unspecifiedframe$())'>"
      ]
     },
     "execution_count": 26,
     "metadata": {},
     "output_type": "execute_result"
    }
   ],
   "source": [
    "# create a window for unique up-to-date records\n",
    "window = Window.partitionBy('id').orderBy(col('processing_time').desc())\n",
    "partition = row_number().over(window)\n",
    "partition"
   ]
  },
  {
   "cell_type": "code",
   "execution_count": 27,
   "metadata": {},
   "outputs": [
    {
     "name": "stdout",
     "output_type": "stream",
     "text": [
      "+---+--------------------+---+----------------------------+\n",
      "|id |name                |age|country                     |\n",
      "+---+--------------------+---+----------------------------+\n",
      "|1  |Jeremy Hunt         |29 |Timor-Leste                 |\n",
      "|2  |Tiffany Zuniga      |37 |Poland                      |\n",
      "|4  |James Dennis Jr.    |30 |Norfolk Island              |\n",
      "|7  |David Lozano        |15 |Iraq                        |\n",
      "|9  |Chelsea Booker      |19 |United Arab Emirates        |\n",
      "|11 |Ashley Keith        |41 |Azerbaijan                  |\n",
      "|12 |Jason Mercer        |54 |Morocco                     |\n",
      "|14 |Michael King        |50 |Iraq                        |\n",
      "|16 |Dalton Drake        |34 |New Caledonia               |\n",
      "|17 |Alicia Rose         |21 |Kuwait                      |\n",
      "|18 |Christine Johnson   |29 |Congo                       |\n",
      "|19 |Kelly James         |29 |Cote d'Ivoire               |\n",
      "|20 |Mr. David Lee MD    |31 |Maldives                    |\n",
      "|25 |Matthew Fox         |36 |Argentina                   |\n",
      "|29 |Christopher Lee     |49 |Japan                       |\n",
      "|30 |Mrs. Victoria Holmes|19 |Lithuania                   |\n",
      "|31 |Anna Williams       |57 |Uganda                      |\n",
      "|33 |Carlos Newton       |31 |Svalbard & Jan Mayen Islands|\n",
      "|34 |Michaela Moore      |16 |Sierra Leone                |\n",
      "|35 |Richard Coleman     |28 |Fiji                        |\n",
      "+---+--------------------+---+----------------------------+\n",
      "only showing top 20 rows\n",
      "\n"
     ]
    }
   ],
   "source": [
    "# unique up-to-date customers\n",
    "df_customers = spark.read.parquet(path_customers).orderBy(col('processing_time').desc())\n",
    "dim_customers = (\n",
    "    df_customers\n",
    "    .withColumn('rn', partition)\n",
    "    .where('rn == 1')\n",
    "    .select('id', 'name', 'age', 'country')\n",
    ")\n",
    "dim_customers.show(truncate=False)"
   ]
  },
  {
   "cell_type": "code",
   "execution_count": 28,
   "metadata": {},
   "outputs": [
    {
     "name": "stdout",
     "output_type": "stream",
     "text": [
      "+---+------------------+-----+\n",
      "|id |name              |price|\n",
      "+---+------------------+-----+\n",
      "|4  |Clean Glassware   |460  |\n",
      "|5  |Vibe Coffee Maker |296  |\n",
      "|8  |Lumina Sleep Mask |187  |\n",
      "|9  |Eco Coffee Maker  |360  |\n",
      "|10 |Luxe Sleep Mask   |216  |\n",
      "|14 |Ultra Glassware   |380  |\n",
      "|15 |Aqua Mop          |86   |\n",
      "|16 |Lumina Stand      |120  |\n",
      "|17 |Crystal Glassware |495  |\n",
      "|19 |Power Water Filter|379  |\n",
      "|20 |Serenity Snack Box|354  |\n",
      "|23 |Elegance Footwear |309  |\n",
      "|24 |Plush Pillow      |223  |\n",
      "|26 |Glimmer Candle    |275  |\n",
      "|28 |Clean Thermostat  |12   |\n",
      "|29 |Style Lipstick    |463  |\n",
      "|31 |Vibe Headphones   |475  |\n",
      "|33 |Vivid Lipstick    |396  |\n",
      "|34 |Fresh Hair Trimmer|107  |\n",
      "|35 |Style Footwear    |252  |\n",
      "+---+------------------+-----+\n",
      "only showing top 20 rows\n",
      "\n"
     ]
    }
   ],
   "source": [
    "# unique up-to-date products\n",
    "df_products = spark.read.parquet(path_products).orderBy(col('processing_time').desc())\n",
    "dim_products = (\n",
    "    df_products\n",
    "    .withColumn('rn', partition)\n",
    "    .where('rn == 1')\n",
    "    .select('id', 'name', 'price')\n",
    ")\n",
    "dim_products.show(truncate=False)"
   ]
  },
  {
   "cell_type": "code",
   "execution_count": 29,
   "metadata": {},
   "outputs": [
    {
     "name": "stdout",
     "output_type": "stream",
     "text": [
      "+---+-----------+----------+----------------+----------+\n",
      "|id |customer_id|product_id|product_quantity|order_date|\n",
      "+---+-----------+----------+----------------+----------+\n",
      "|1  |34         |675       |41              |2023-06-05|\n",
      "|2  |823        |381       |66              |2024-03-11|\n",
      "|3  |569        |664       |8               |2024-03-27|\n",
      "|4  |973        |73        |16              |2023-08-11|\n",
      "|5  |768        |542       |32              |2023-12-31|\n",
      "|6  |221        |596       |4               |2024-02-14|\n",
      "|7  |627        |314       |91              |2023-04-18|\n",
      "|8  |642        |601       |36              |2023-06-25|\n",
      "|9  |749        |363       |77              |2022-12-12|\n",
      "|10 |107        |379       |26              |2024-06-14|\n",
      "|11 |353        |260       |17              |2023-05-09|\n",
      "|12 |655        |422       |13              |2023-10-21|\n",
      "|13 |201        |24        |10              |2023-12-16|\n",
      "|14 |16         |947       |93              |2024-03-05|\n",
      "|15 |985        |181       |51              |2024-02-06|\n",
      "|16 |636        |9         |73              |2023-01-18|\n",
      "|17 |344        |79        |27              |2022-08-03|\n",
      "|18 |230        |894       |23              |2023-06-06|\n",
      "|19 |603        |696       |40              |2023-09-09|\n",
      "|20 |971        |631       |75              |2023-10-17|\n",
      "+---+-----------+----------+----------------+----------+\n",
      "only showing top 20 rows\n",
      "\n"
     ]
    }
   ],
   "source": [
    "# unique up-to-date sales\n",
    "df_sales = spark.read.parquet(path_sales).orderBy(col('processing_time').desc())\n",
    "dim_sales = (\n",
    "    df_sales\n",
    "    .withColumn('rn', partition)\n",
    "    .where('rn == 1')\n",
    "    .select('id', 'customer_id', 'product_id', 'product_quantity', 'order_date')\n",
    ")\n",
    "dim_sales.show(truncate=False)"
   ]
  },
  {
   "cell_type": "markdown",
   "metadata": {},
   "source": [
    "# Data analysis using Data warehouse"
   ]
  },
  {
   "cell_type": "code",
   "execution_count": 30,
   "metadata": {},
   "outputs": [
    {
     "name": "stdout",
     "output_type": "stream",
     "text": [
      "+--------+-----------+----------+----------+----------------+-----------------+------------+--------------------+--------------------+-------------+\n",
      "|order_id|customer_id|product_id|order_date|product_quantity|    customer_name|customer_age|    customer_country|        product_name|product_price|\n",
      "+--------+-----------+----------+----------+----------------+-----------------+------------+--------------------+--------------------+-------------+\n",
      "|       1|         34|       675|2023-06-05|              41|   Michaela Moore|          16|        Sierra Leone|      Vibe Snack Box|           99|\n",
      "|       2|        823|       381|2024-03-11|              66|  Alicia Anderson|          21|   Equatorial Guinea|     Power Snack Box|          420|\n",
      "|       3|        569|       664|2024-03-27|               8|    Jennifer Wade|          35|              Brazil|  Gourmet Sleep Mask|          268|\n",
      "|       4|        973|        73|2023-08-11|              16|        John Mann|          38|Cocos (Keeling) I...|Healthy Running S...|          453|\n",
      "|       5|        768|       542|2023-12-31|              32|    Rachel Rogers|          35|            Paraguay|           Fresh Fan|          478|\n",
      "|       6|        221|       596|2024-02-14|               4|    Samuel Fowler|          26|           Guatemala|        Lumina Watch|           17|\n",
      "|       7|        627|       314|2023-04-18|              91|   Crystal Guerra|          44|            Paraguay|         Fit Blender|          221|\n",
      "|       8|        642|       601|2023-06-25|              36| Michael Chambers|          42|              Poland|     Flexi Knife Set|          492|\n",
      "|       9|        749|       363|2022-12-12|              77| Jessica Mcknight|          15|            Portugal|         Smart Drill|           58|\n",
      "|      10|        107|       379|2024-06-14|              26|    Marissa Green|          23|          Montenegro|     Luxe Hair Dryer|          122|\n",
      "|      11|        353|       260|2023-05-09|              17|      Summer Lynn|          27|             Jamaica|      Vibe Snack Box|           60|\n",
      "|      12|        655|       422|2023-10-21|              13|    Abigail Green|          29|            Cambodia|          Gourmet TV|          487|\n",
      "|      13|        201|        24|2023-12-16|              10|Christopher Blair|          29|                Mali|        Plush Pillow|          223|\n",
      "|      14|         16|       947|2024-03-05|              93|     Dalton Drake|          34|       New Caledonia|       Eco Snack Box|          160|\n",
      "|      15|        985|       181|2024-02-06|              51|     Bruce Mooney|          57|             Lebanon|        Relax Pillow|          293|\n",
      "|      16|        636|         9|2023-01-18|              73|        Jason Lee|          32|Palestinian Terri...|    Eco Coffee Maker|          360|\n",
      "|      17|        344|        79|2022-08-03|              27|    Donald Carter|          21|           Greenland|  Gourmet Hair Dryer|          107|\n",
      "|      18|        230|       894|2023-06-06|              23|   Daniel Holland|          26|            Thailand|  Smart Water Filter|          260|\n",
      "|      19|        603|       696|2023-09-09|              40| Zachary Holloway|          18|           Swaziland|        Aqua Blanket|           13|\n",
      "|      20|        971|       631|2023-10-17|              75|  Brittney Little|          26|                Mali|    Zen Water Bottle|          231|\n",
      "+--------+-----------+----------+----------+----------------+-----------------+------------+--------------------+--------------------+-------------+\n",
      "only showing top 20 rows\n",
      "\n"
     ]
    }
   ],
   "source": [
    "df_customers = spark.read.parquet(path_customers).orderBy(col('processing_time').desc())\n",
    "dim_customers = (\n",
    "    df_customers\n",
    "    .withColumn('rn', partition)\n",
    "    .where('rn == 1')\n",
    "    .select('id', 'name', 'age', 'country')\n",
    ")\n",
    "\n",
    "\n",
    "df_products = spark.read.parquet(path_products).orderBy(col('processing_time').desc())\n",
    "dim_products = (\n",
    "    df_products\n",
    "    .withColumn('rn', partition)\n",
    "    .where('rn == 1')\n",
    "    .select('id', 'name', 'price')\n",
    ")\n",
    "\n",
    "\n",
    "df_sales = spark.read.parquet(path_sales).orderBy(col('processing_time').desc())\n",
    "dim_sales = (\n",
    "    df_sales\n",
    "    .withColumn('rn', partition)\n",
    "    .where('rn == 1')\n",
    "    .select('id', 'customer_id', 'product_id', 'product_quantity', 'order_date')\n",
    ")\n",
    "\n",
    "dim_customers.createOrReplaceTempView(\"customers\")\n",
    "dim_products.createOrReplaceTempView(\"products\")\n",
    "dim_sales.createOrReplaceTempView(\"sales\")\n",
    "spark.sql(\n",
    "    \"\"\"\n",
    "    select\n",
    "        sales.id as order_id,\n",
    "        sales.customer_id,\n",
    "        sales.product_id,\n",
    "        sales.order_date,\n",
    "        sales.product_quantity,\n",
    "        customers.name as customer_name,\n",
    "        customers.age as customer_age,\n",
    "        customers.country as customer_country,\n",
    "        products.name as product_name,\n",
    "        products.price as product_price\n",
    "    from sales\n",
    "        left join customers\n",
    "            on sales.customer_id = customers.id\n",
    "        left join products\n",
    "            on sales.product_id = products.id\n",
    "    \"\"\"\n",
    ").show()"
   ]
  },
  {
   "cell_type": "code",
   "execution_count": 31,
   "metadata": {},
   "outputs": [
    {
     "name": "stdout",
     "output_type": "stream",
     "text": [
      "+----+-----+-----------+------------+\n",
      "|year|month|total_sales|total_orders|\n",
      "+----+-----+-----------+------------+\n",
      "|2022|    7|      49967|           5|\n",
      "|2022|    8|     623323|          46|\n",
      "|2022|    9|     514651|          37|\n",
      "|2022|   10|     625792|          49|\n",
      "|2022|   11|     484036|          39|\n",
      "|2022|   12|     439770|          37|\n",
      "|2023|    1|     517176|          34|\n",
      "|2023|    2|     448538|          30|\n",
      "|2023|    3|     570095|          48|\n",
      "|2023|    4|     668076|          44|\n",
      "|2023|    5|     436745|          36|\n",
      "|2023|    6|     524993|          31|\n",
      "|2023|    7|     633927|          47|\n",
      "|2023|    8|     394044|          43|\n",
      "|2023|    9|     536927|          48|\n",
      "|2023|   10|     517638|          48|\n",
      "|2023|   11|     512456|          45|\n",
      "|2023|   12|     677544|          49|\n",
      "|2024|    1|     697040|          48|\n",
      "|2024|    2|     582464|          41|\n",
      "+----+-----+-----------+------------+\n",
      "only showing top 20 rows\n",
      "\n"
     ]
    }
   ],
   "source": [
    "sales_by_year_month = spark.sql(\n",
    "    \"\"\"\n",
    "    select\n",
    "        YEAR(sales.order_date) as year,\n",
    "        MONTH(sales.order_date) as month,\n",
    "        SUM(sales.product_quantity * products.price) as total_sales,\n",
    "        count(*) as total_orders\n",
    "    from sales\n",
    "        left join products\n",
    "            on sales.product_id = products.id\n",
    "    group by year, month\n",
    "    order by year, month\n",
    "    \n",
    "    \"\"\"\n",
    ")\n",
    "sales_by_year_month.show()"
   ]
  },
  {
   "cell_type": "code",
   "execution_count": 32,
   "metadata": {},
   "outputs": [
    {
     "name": "stdout",
     "output_type": "stream",
     "text": [
      "+-------------------+-----------+------------+\n",
      "|       product_name|total_sales|total_orders|\n",
      "+-------------------+-----------+------------+\n",
      "|      Aqua Backpack|      94422|           4|\n",
      "|       Aqua Blanket|       1690|           2|\n",
      "|        Aqua Candle|      28050|           1|\n",
      "|  Aqua Coffee Maker|      11232|           1|\n",
      "|     Aqua Glassware|      42538|           7|\n",
      "|     Aqua Knife Set|      14350|           2|\n",
      "|          Aqua Lock|      22502|           5|\n",
      "| Aqua Massage Chair|      14062|           1|\n",
      "|           Aqua Mop|       4730|           1|\n",
      "|       Aqua Pet Bed|      23944|           3|\n",
      "|      Aqua Purifier|       7624|           2|\n",
      "|    Aqua Shower Gel|       3096|           2|\n",
      "|          Aqua Soap|     101530|           3|\n",
      "|       Aqua Sweater|      51772|           5|\n",
      "|    Aqua Thermostat|      10138|           1|\n",
      "|        Aqua Vacuum|       2772|           1|\n",
      "|        Breeze Lock|      16404|           3|\n",
      "|     Breeze Pet Bed|      46070|           4|\n",
      "|      Breeze Pillow|       6664|           3|\n",
      "|Breeze Water Filter|       7678|           1|\n",
      "+-------------------+-----------+------------+\n",
      "only showing top 20 rows\n",
      "\n"
     ]
    }
   ],
   "source": [
    "sales_by_product = spark.sql(\n",
    "    \"\"\"\n",
    "    select\n",
    "        products.name as product_name,\n",
    "        SUM(sales.product_quantity * products.price) as total_sales,\n",
    "        count(*) as total_orders\n",
    "    from sales\n",
    "        left join products\n",
    "            on sales.product_id = products.id\n",
    "    group by product_name\n",
    "    order by product_name\n",
    "    \n",
    "    \"\"\"\n",
    ")\n",
    "sales_by_product.show()"
   ]
  },
  {
   "cell_type": "code",
   "execution_count": 33,
   "metadata": {},
   "outputs": [
    {
     "name": "stdout",
     "output_type": "stream",
     "text": [
      "+--------------------+-----------+------------+\n",
      "|             country|total_sales|total_orders|\n",
      "+--------------------+-----------+------------+\n",
      "|         Afghanistan|       3705|           1|\n",
      "|             Albania|      94493|           6|\n",
      "|      American Samoa|      66012|           5|\n",
      "|             Andorra|      44034|           3|\n",
      "|              Angola|     120195|           7|\n",
      "|            Anguilla|      26137|           3|\n",
      "|Antarctica (the t...|      49389|           3|\n",
      "| Antigua and Barbuda|      66365|           4|\n",
      "|           Argentina|      68695|           6|\n",
      "|               Aruba|      25290|           4|\n",
      "|           Australia|      40187|           4|\n",
      "|             Austria|      78786|           8|\n",
      "|          Azerbaijan|     125087|           5|\n",
      "|             Bahamas|     103114|           5|\n",
      "|             Bahrain|      77568|           4|\n",
      "|          Bangladesh|       7029|           2|\n",
      "|            Barbados|      19302|           2|\n",
      "|             Belarus|      41839|           4|\n",
      "|             Belgium|       2200|           1|\n",
      "|              Belize|      24360|           4|\n",
      "+--------------------+-----------+------------+\n",
      "only showing top 20 rows\n",
      "\n"
     ]
    }
   ],
   "source": [
    "sales_by_country = spark.sql(\n",
    "    \"\"\"\n",
    "    select\n",
    "        customers.country as country,\n",
    "        SUM(sales.product_quantity * products.price) as total_sales,\n",
    "        count(*) as total_orders\n",
    "    from sales\n",
    "        left join customers\n",
    "            on sales.customer_id = customers.id\n",
    "        left join products\n",
    "            on sales.product_id = products.id\n",
    "    group by country\n",
    "    order by country\n",
    "    \n",
    "    \"\"\"\n",
    ")\n",
    "sales_by_country.show()"
   ]
  },
  {
   "cell_type": "code",
   "execution_count": 40,
   "metadata": {},
   "outputs": [
    {
     "data": {
      "text/plain": [
       "Text(0, 0.5, 'Country')"
      ]
     },
     "execution_count": 40,
     "metadata": {},
     "output_type": "execute_result"
    },
    {
     "data": {
      "image/png": "[encoded data removed]",
      "text/plain": [
       "<Figure size 640x480 with 1 Axes>"
      ]
     },
     "metadata": {},
     "output_type": "display_data"
    }
   ],
   "source": [
    "sales_by_country_ = sales_by_country.toPandas()\n",
    "sales_by_country_ = sales_by_country_.sort_values('total_sales', ascending=False)\n",
    "plt.barh(sales_by_country_['country'][:5], sales_by_country_['total_sales'][:5])\n",
    "plt.title(\"Top 5 Sales By Country\")\n",
    "plt.xlabel(\"Sales\")\n",
    "plt.ylabel('Country')"
   ]
  },
  {
   "cell_type": "code",
   "execution_count": 41,
   "metadata": {},
   "outputs": [
    {
     "name": "stdout",
     "output_type": "stream",
     "text": [
      "+----+-----------+------------+\n",
      "|year|total_sales|total_orders|\n",
      "+----+-----------+------------+\n",
      "|2022|    2737539|         213|\n",
      "|2023|    6438159|         503|\n",
      "|2024|    3818986|         284|\n",
      "+----+-----------+------------+\n",
      "\n"
     ]
    }
   ],
   "source": [
    "sales_by_year = spark.sql(\n",
    "    \"\"\"\n",
    "    select\n",
    "        YEAR(sales.order_date) as year,\n",
    "        SUM(sales.product_quantity * products.price) as total_sales,\n",
    "        count(*) as total_orders\n",
    "    from sales\n",
    "        left join products\n",
    "            on sales.product_id = products.id\n",
    "    group by year\n",
    "    order by year\n",
    "    \n",
    "    \"\"\"\n",
    ")\n",
    "sales_by_year.show()"
   ]
  },
  {
   "cell_type": "code",
   "execution_count": 42,
   "metadata": {},
   "outputs": [
    {
     "data": {
      "text/plain": [
       "Text(0, 0.5, 'Sales')"
      ]
     },
     "execution_count": 42,
     "metadata": {},
     "output_type": "execute_result"
    },
    {
     "data": {
      "image/png": "[encoded data removed]",
      "text/plain": [
       "<Figure size 640x480 with 1 Axes>"
      ]
     },
     "metadata": {},
     "output_type": "display_data"
    }
   ],
   "source": [
    "sales_by_year_ = sales_by_year.toPandas()\n",
    "plt.bar(sales_by_year_['year'].astype(str), sales_by_year_['total_sales'])\n",
    "plt.title(\"Sales By Year\")\n",
    "plt.xlabel(\"Year\")\n",
    "plt.ylabel('Sales')"
   ]
  },
  {
   "cell_type": "code",
   "execution_count": 48,
   "metadata": {},
   "outputs": [
    {
     "name": "stdout",
     "output_type": "stream",
     "text": [
      "+-----+-----------+------------+\n",
      "|month|total_sales|total_orders|\n",
      "+-----+-----------+------------+\n",
      "|    1|    1214216|          82|\n",
      "|    2|    1031002|          71|\n",
      "|    3|    1091276|          93|\n",
      "|    4|    1146860|          84|\n",
      "|    5|    1122754|          80|\n",
      "|    6|     939487|          66|\n",
      "|    7|    1122908|          83|\n",
      "|    8|    1017367|          89|\n",
      "|    9|    1051578|          85|\n",
      "|   10|    1143430|          97|\n",
      "|   11|     996492|          84|\n",
      "|   12|    1117314|          86|\n",
      "+-----+-----------+------------+\n",
      "\n"
     ]
    }
   ],
   "source": [
    "sales_by_month = spark.sql(\n",
    "    \"\"\"\n",
    "    select\n",
    "        MONTH(sales.order_date) as month,\n",
    "        SUM(sales.product_quantity * products.price) as total_sales,\n",
    "        count(*) as total_orders\n",
    "    from sales\n",
    "        left join products\n",
    "            on sales.product_id = products.id\n",
    "    group by month\n",
    "    order by month\n",
    "    \n",
    "    \"\"\"\n",
    ")\n",
    "sales_by_month.show()"
   ]
  },
  {
   "cell_type": "code",
   "execution_count": 50,
   "metadata": {},
   "outputs": [
    {
     "data": {
      "text/plain": [
       "Text(0, 0.5, 'Sales')"
      ]
     },
     "execution_count": 50,
     "metadata": {},
     "output_type": "execute_result"
    },
    {
     "data": {
      "image/png": "[encoded data removed]",
      "text/plain": [
       "<Figure size 640x480 with 1 Axes>"
      ]
     },
     "metadata": {},
     "output_type": "display_data"
    }
   ],
   "source": [
    "sales_by_month_ = sales_by_month.toPandas()\n",
    "sales_by_month_['month_name'] = pd.to_datetime(sales_by_month_['month'], format=\"%m\").dt.strftime('%b')\n",
    "plt.plot(sales_by_month_['month_name'], sales_by_month_['total_sales'])\n",
    "plt.title(\"Sales By Month\")\n",
    "plt.xlabel(\"Month\")\n",
    "plt.ylabel('Sales')"
   ]
  },
  {
   "cell_type": "code",
   "execution_count": 52,
   "metadata": {},
   "outputs": [
    {
     "data": {
      "text/plain": [
       "Text(0, 0.5, 'Orders')"
      ]
     },
     "execution_count": 52,
     "metadata": {},
     "output_type": "execute_result"
    },
    {
     "data": {
      "image/png": "[encoded data removed]",
      "text/plain": [
       "<Figure size 640x480 with 1 Axes>"
      ]
     },
     "metadata": {},
     "output_type": "display_data"
    }
   ],
   "source": [
    "plt.plot(sales_by_month_['month_name'], sales_by_month_['total_orders'])\n",
    "plt.title(\"Total Orders By Month\")\n",
    "plt.xlabel(\"Month\")\n",
    "plt.ylabel('Orders')"
   ]
  },
  {
   "cell_type": "code",
   "execution_count": 53,
   "metadata": {},
   "outputs": [
    {
     "name": "stdout",
     "output_type": "stream",
     "text": [
      "+-----+--------------------+-----------+------------+\n",
      "|month|             country|total_sales|total_orders|\n",
      "+-----+--------------------+-----------+------------+\n",
      "|    1|              Angola|      45930|           2|\n",
      "|    1|Antarctica (the t...|       7125|           1|\n",
      "|    1|               Aruba|       2170|           1|\n",
      "|    1|             Austria|      10560|           1|\n",
      "|    1|             Bahrain|      34440|           1|\n",
      "|    1|              Bhutan|       1413|           1|\n",
      "|    1|              Brazil|      31079|           3|\n",
      "|    1|British Virgin Is...|       2328|           1|\n",
      "|    1|   Brunei Darussalam|      10650|           1|\n",
      "|    1|        Burkina Faso|       1911|           1|\n",
      "|    1|             Burundi|      20064|           1|\n",
      "|    1|            Cambodia|      45375|           2|\n",
      "|    1|            Cameroon|       2431|           1|\n",
      "|    1|      Cayman Islands|      24876|           2|\n",
      "|    1|               Chile|      31287|           2|\n",
      "|    1|Cocos (Keeling) I...|      16409|           1|\n",
      "|    1|            Colombia|       9288|           1|\n",
      "|    1|               Congo|       5767|           1|\n",
      "|    1|       Cote d'Ivoire|      37146|           1|\n",
      "|    1|                Cuba|      18634|           1|\n",
      "+-----+--------------------+-----------+------------+\n",
      "only showing top 20 rows\n",
      "\n"
     ]
    }
   ],
   "source": [
    "sales_by_month_country = spark.sql(\n",
    "    \"\"\"\n",
    "    select\n",
    "        MONTH(sales.order_date) as month,\n",
    "        customers.country as country,\n",
    "        SUM(sales.product_quantity * products.price) as total_sales,\n",
    "        count(*) as total_orders\n",
    "    from sales\n",
    "        left join products\n",
    "            on sales.product_id = products.id\n",
    "        left join customers\n",
    "            on sales.customer_id = customers.id\n",
    "    group by month, country\n",
    "    order by month, country\n",
    "    \n",
    "    \"\"\"\n",
    ")\n",
    "sales_by_month_country.show()"
   ]
  }
 ],
 "metadata": {
  "kernelspec": {
   "display_name": "Python 3",
   "language": "python",
   "name": "python3"
  },
  "language_info": {
   "codemirror_mode": {
    "name": "ipython",
    "version": 3
   },
   "file_extension": ".py",
   "mimetype": "text/x-python",
   "name": "python",
   "nbconvert_exporter": "python",
   "pygments_lexer": "ipython3",
   "version": "3.10.12"
  }
 },
 "nbformat": 4,
 "nbformat_minor": 2
}
